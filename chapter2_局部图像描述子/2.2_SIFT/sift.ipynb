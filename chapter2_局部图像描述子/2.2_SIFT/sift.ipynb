{
 "cells": [
  {
   "cell_type": "code",
   "execution_count": 13,
   "metadata": {},
   "outputs": [],
   "source": [
    "import sift\n",
    "\n",
    "import os\n",
    "from scipy.ndimage import filters\n",
    "from numpy import *\n",
    "from PIL import Image\n",
    "\n",
    "\n",
    "\n",
    "def process_image(imagename,resultname,params=\"--edge-thresh 10 --peak-thresh 5\"):\n",
    "    \"\"\" 处理一幅图像，然后将结果保存在文件中 \"\"\"\n",
    "    if imagename[-3:] != 'pgm':\n",
    "        # 创建一个 pgm 文件\n",
    "        im = Image.open(imagename).convert('L')\n",
    "        im.save('tmp.pgm')\n",
    "        imagename = 'tmp.pgm'\n",
    "        \n",
    "    cmmd = str(\"sift \"+imagename+\" --output=\"+resultname+\" \"+params)\n",
    "    os.system(cmmd)\n",
    "    print('processed', imagename, 'to', resultname)"
   ]
  },
  {
   "cell_type": "code",
   "execution_count": 6,
   "metadata": {},
   "outputs": [],
   "source": [
    "def read_features_from_file(filename):\n",
    "    \"\"\" 读取特征属性值，然后将其以矩阵的形式返回 \"\"\"\n",
    "    \n",
    "    f = loadtxt(filename)\n",
    "    return f[:,:4],f[:,4:] # 特征位置，描述子"
   ]
  },
  {
   "cell_type": "code",
   "execution_count": 7,
   "metadata": {},
   "outputs": [],
   "source": [
    "def write_features_to_file(filename,locs,desc):\n",
    "    \"\"\" 将特征位置和描述子保存到文件中 \"\"\"\n",
    "    \n",
    "    savetxt(filename,hstack((locs,desc)))"
   ]
  },
  {
   "cell_type": "code",
   "execution_count": 12,
   "metadata": {},
   "outputs": [],
   "source": [
    "# 可视化函数\n",
    "def plot_features(im,locs,circle=False):\n",
    "    \"\"\" 显示带有特征的图像\n",
    " 输入：im（数组图像），locs（每个特征的行、列、尺度和方向角度）\"\"\"\n",
    "    \n",
    "    def draw_circle(c,r): \n",
    "        t = arange(0,1.01,.01)*2*pi\n",
    "        x = r*cos(t) + c[0]\n",
    "        y = r*sin(t) + c[1]\n",
    "        plot(x,y,'b',linewidth=2)\n",
    "        \n",
    "    imshow(im)\n",
    "    if circle:\n",
    "        for p in locs:\n",
    "            draw_circle(p[:2],p[2])\n",
    "    else:\n",
    "        plot(locs[:,0],locs[:,1],'ob')\n",
    "    axis('off')"
   ]
  }
 ],
 "metadata": {
  "kernelspec": {
   "display_name": "Python 3",
   "language": "python",
   "name": "python3"
  },
  "language_info": {
   "codemirror_mode": {
    "name": "ipython",
    "version": 3
   },
   "file_extension": ".py",
   "mimetype": "text/x-python",
   "name": "python",
   "nbconvert_exporter": "python",
   "pygments_lexer": "ipython3",
   "version": "3.6.2"
  }
 },
 "nbformat": 4,
 "nbformat_minor": 4
}
